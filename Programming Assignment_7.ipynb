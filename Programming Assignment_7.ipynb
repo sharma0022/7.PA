{
 "cells": [
  {
   "cell_type": "markdown",
   "id": "b091d5b0",
   "metadata": {},
   "source": [
    "# Assignment 7 Solutions\n"
   ]
  },
  {
   "cell_type": "markdown",
   "id": "4374f1f4",
   "metadata": {},
   "source": [
    "1. Write a Python Program to find sum of Array ?\n"
   ]
  },
  {
   "cell_type": "code",
   "execution_count": 3,
   "id": "837a6073",
   "metadata": {},
   "outputs": [
    {
     "name": "stdout",
     "output_type": "stream",
     "text": [
      "Enter the Array: [0]\n",
      "The sum of [0] is 0\n"
     ]
    }
   ],
   "source": [
    "def sumOfArray():\n",
    "    in_arr = eval(input(\"Enter the Array: \"))\n",
    "    print(f'The sum of {in_arr} is {sum(in_arr)}')\n",
    "\n",
    "sumOfArray()"
   ]
  },
  {
   "cell_type": "markdown",
   "id": "42b2d978",
   "metadata": {},
   "source": [
    "2. Write a Python Program to find Largest element in an Array ?\n"
   ]
  },
  {
   "cell_type": "code",
   "execution_count": 4,
   "id": "052a4675",
   "metadata": {},
   "outputs": [
    {
     "name": "stdout",
     "output_type": "stream",
     "text": [
      "Enter the Array: [123456]\n",
      "The Largest Element in [123456] is 123456\n"
     ]
    }
   ],
   "source": [
    "def largestElement():\n",
    "    in_arr = eval(input(\"Enter the Array: \"))\n",
    "    print(f\"The Largest Element in {in_arr} is {sorted(in_arr, reverse=True)[0]}\")\n",
    "    \n",
    "largestElement()"
   ]
  },
  {
   "cell_type": "markdown",
   "id": "aff48eb2",
   "metadata": {},
   "source": [
    "3. Write a Python Program for array rotation ?\n",
    "\n"
   ]
  },
  {
   "cell_type": "code",
   "execution_count": 6,
   "id": "70a29776",
   "metadata": {},
   "outputs": [
    {
     "name": "stdout",
     "output_type": "stream",
     "text": [
      "Enter the Array: [14,16,9,30]\n",
      "The Reverse of Array [14, 16, 9, 30] is [30, 9, 16, 14]\n"
     ]
    }
   ],
   "source": [
    "def reverseOfArray():\n",
    "    in_arr = eval(input(\"Enter the Array: \"))\n",
    "    print(f\"The Reverse of Array {in_arr} is {in_arr[::-1]}\")\n",
    "    \n",
    "reverseOfArray()"
   ]
  },
  {
   "cell_type": "markdown",
   "id": "57ad4568",
   "metadata": {},
   "source": [
    "4. Write a Python Program to Split the array and add the first part to the end ?\n"
   ]
  },
  {
   "cell_type": "code",
   "execution_count": 8,
   "id": "8d80e1cd",
   "metadata": {},
   "outputs": [
    {
     "name": "stdout",
     "output_type": "stream",
     "text": [
      "Enter the Array: [1,2,3,4,5]\n",
      "The Sum of First and Last Elements of Array [1, 2, 3, 4, 5] is 6\n"
     ]
    }
   ],
   "source": [
    "def sumOfSplits():\n",
    "    in_arr = eval(input(\"Enter the Array: \"))\n",
    "    print(f\"The Sum of First and Last Elements of Array {in_arr} is {in_arr[0]+in_arr[-1]}\")\n",
    "    \n",
    "sumOfSplits()"
   ]
  },
  {
   "cell_type": "markdown",
   "id": "22841f80",
   "metadata": {},
   "source": [
    "5. Write a Python Program to check if given array is Monotonic ?\n"
   ]
  },
  {
   "cell_type": "code",
   "execution_count": 10,
   "id": "67618612",
   "metadata": {},
   "outputs": [
    {
     "name": "stdout",
     "output_type": "stream",
     "text": [
      "Enter the Array: [1,2,3,4,5,6]\n",
      "Array [1, 2, 3, 4, 5, 6] is Monotonic\n",
      "Enter the Array: 4,2,4,6,5,1,9\n",
      "Array (4, 2, 4, 6, 5, 1, 9) is Not Monotonic\n"
     ]
    }
   ],
   "source": [
    "def checkMonotonic():\n",
    "    in_arr = eval(input(\"Enter the Array: \"))\n",
    "    if(all(in_arr[i]<=in_arr[i+1] for i in range(len(in_arr)-1)) or all(in_arr[i]>=in_arr[i+1] for i in range(len(in_arr)-1))):\n",
    "        print(f'Array {in_arr} is Monotonic')\n",
    "    else:\n",
    "        print(f'Array {in_arr} is Not Monotonic')\n",
    "\n",
    "checkMonotonic()\n",
    "checkMonotonic()"
   ]
  },
  {
   "cell_type": "code",
   "execution_count": null,
   "id": "db180dd6",
   "metadata": {},
   "outputs": [],
   "source": []
  },
  {
   "cell_type": "code",
   "execution_count": null,
   "id": "840b3e10",
   "metadata": {},
   "outputs": [],
   "source": []
  }
 ],
 "metadata": {
  "kernelspec": {
   "display_name": "Python 3 (ipykernel)",
   "language": "python",
   "name": "python3"
  },
  "language_info": {
   "codemirror_mode": {
    "name": "ipython",
    "version": 3
   },
   "file_extension": ".py",
   "mimetype": "text/x-python",
   "name": "python",
   "nbconvert_exporter": "python",
   "pygments_lexer": "ipython3",
   "version": "3.9.12"
  }
 },
 "nbformat": 4,
 "nbformat_minor": 5
}
